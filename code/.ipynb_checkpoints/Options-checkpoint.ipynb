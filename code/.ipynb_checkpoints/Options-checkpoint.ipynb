{
 "cells": [
  {
   "cell_type": "code",
   "execution_count": 207,
   "id": "594c3305-a42e-4565-bd26-e64bf82102c5",
   "metadata": {},
   "outputs": [],
   "source": [
    "import pandas as pd\n",
    "import numpy as np\n",
    "import re\n",
    "from datetime import datetime"
   ]
  },
  {
   "cell_type": "code",
   "execution_count": 209,
   "id": "5afb25c0-5508-4a68-b1a6-d3d2a8d0fef6",
   "metadata": {},
   "outputs": [],
   "source": [
    "# Read the data files\n",
    "data_dir = '/Users/ziyuhe/Library/CloudStorage/OneDrive-UCSanDiego/Data/Financial Data/Gubernatorial Elections'\n",
    "options = pd.read_excel(f'{data_dir}/options_data.xlsx')"
   ]
  },
  {
   "cell_type": "code",
   "execution_count": 210,
   "id": "cad003fd-4d01-448b-b401-9729d72f41f2",
   "metadata": {},
   "outputs": [],
   "source": [
    "df_options = options[['ticker', 'date', 'days', 'impl_volatility', 'cp_flag']].dropna()\n",
    "df_options = df_options.groupby(['ticker', 'date', 'days'], as_index=False)['impl_volatility'].mean()\n",
    "df_options['date'] = pd.to_datetime(df_options['date'])\n",
    "df_options['post'] = (df_options['date'] != df_options['date'].iloc[0]).astype(int)"
   ]
  },
  {
   "cell_type": "code",
   "execution_count": 211,
   "id": "79812460-1e34-4adf-9544-8187e7131317",
   "metadata": {},
   "outputs": [],
   "source": [
    "selected_tickers = df_options[df_options['days'] == 10].groupby('ticker', as_index=False)['date'].nunique()\n",
    "selected_tickers = selected_tickers[selected_tickers['date'] == 2]\n",
    "ticker_lst = selected_tickers['ticker']\n",
    "common_options = df_options[df_options['ticker'].isin(ticker_lst)]"
   ]
  },
  {
   "cell_type": "code",
   "execution_count": 212,
   "id": "46963e6f-2048-4624-959a-03915d9d517b",
   "metadata": {},
   "outputs": [],
   "source": [
    "options_pre = df_options[df_options['post'] == 0]\n",
    "options_post = df_options[df_options['post'] == 0]\n",
    "options_pre_w = options_pre.pivot(index = 'ticker', columns = 'days', values = 'impl_volatility').reset_index()\n",
    "options_post_w = options_post.pivot(index = 'ticker', columns = 'days', values = 'impl_volatility').reset_index()"
   ]
  },
  {
   "cell_type": "code",
   "execution_count": 213,
   "id": "de70c04d-2677-48c6-8a13-c828838f69f7",
   "metadata": {},
   "outputs": [
    {
     "name": "stderr",
     "output_type": "stream",
     "text": [
      "/var/folders/y7/2k5vxcdj74b8rsyvc2psl2vc0000gn/T/ipykernel_26527/166940286.py:2: SettingWithCopyWarning: \n",
      "A value is trying to be set on a copy of a slice from a DataFrame.\n",
      "Try using .loc[row_indexer,col_indexer] = value instead\n",
      "\n",
      "See the caveats in the documentation: https://pandas.pydata.org/pandas-docs/stable/user_guide/indexing.html#returning-a-view-versus-a-copy\n",
      "  common_options['key'] = common_options['days'].astype(str) + '_' + common_options['post'].astype(str)\n"
     ]
    }
   ],
   "source": [
    "df_options['key'] = df_options['days'].astype(str) + '_' + df_options['post'].astype(str)\n",
    "common_options['key'] = common_options['days'].astype(str) + '_' + common_options['post'].astype(str)"
   ]
  },
  {
   "cell_type": "code",
   "execution_count": 214,
   "id": "25f706cf-edce-4268-8bea-a3431650df1b",
   "metadata": {},
   "outputs": [],
   "source": [
    "options_w = df_options.pivot(index='ticker', columns='key', values='impl_volatility').reset_index()\n",
    "common_options_w = common_options.pivot(index='ticker', columns='key', values='impl_volatility').reset_index()"
   ]
  },
  {
   "cell_type": "code",
   "execution_count": 215,
   "id": "2d2857c8-822d-4ab2-806d-e77d621e286b",
   "metadata": {},
   "outputs": [],
   "source": [
    "df_options.to_csv(f'{data_dir}/full_options.csv', index=False)\n",
    "common_options.to_csv(f'{data_dir}/common_options.csv', index=False)\n",
    "options_w.to_csv(f'{data_dir}/full_options_w.csv', index=False)\n",
    "common_options_w.to_csv(f'{data_dir}/common_options_w.csv', index=False)\n",
    "options_pre.to_csv(f'{data_dir}/options_pre.csv', index=False)\n",
    "options_post.to_csv(f'{data_dir}/options_post.csv', index=False)\n",
    "options_pre_w.to_csv(f'{data_dir}/options_pre_w.csv', index=False)\n",
    "options_post_w.to_csv(f'{data_dir}/options_post_w.csv', index=False)"
   ]
  },
  {
   "cell_type": "code",
   "execution_count": null,
   "id": "238b3e5e-4660-4e5d-b455-acedc732d648",
   "metadata": {},
   "outputs": [],
   "source": []
  }
 ],
 "metadata": {
  "kernelspec": {
   "display_name": "Python 3 (ipykernel)",
   "language": "python",
   "name": "python3"
  },
  "language_info": {
   "codemirror_mode": {
    "name": "ipython",
    "version": 3
   },
   "file_extension": ".py",
   "mimetype": "text/x-python",
   "name": "python",
   "nbconvert_exporter": "python",
   "pygments_lexer": "ipython3",
   "version": "3.8.12"
  }
 },
 "nbformat": 4,
 "nbformat_minor": 5
}
